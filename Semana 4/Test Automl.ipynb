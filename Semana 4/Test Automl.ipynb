{
 "cells": [
  {
   "cell_type": "code",
   "execution_count": 1,
   "id": "5ff48483",
   "metadata": {},
   "outputs": [
    {
     "name": "stdout",
     "output_type": "stream",
     "text": [
      "Collecting google-cloud-automl\n",
      "  Downloading google_cloud_automl-2.7.2-py2.py3-none-any.whl (289 kB)\n",
      "Collecting google-api-core[grpc]!=2.0.*,!=2.1.*,!=2.2.*,!=2.3.0,<3.0.0dev,>=1.31.5\n",
      "  Downloading google_api_core-2.7.2-py3-none-any.whl (114 kB)\n",
      "Collecting proto-plus>=1.15.0\n",
      "  Downloading proto_plus-1.20.3-py3-none-any.whl (46 kB)\n",
      "Collecting protobuf>=3.12.0\n",
      "  Downloading protobuf-3.20.0-cp37-cp37m-win_amd64.whl (905 kB)\n",
      "Requirement already satisfied: requests<3.0.0dev,>=2.18.0 in d:\\programas\\anaconda\\lib\\site-packages (from google-api-core[grpc]!=2.0.*,!=2.1.*,!=2.2.*,!=2.3.0,<3.0.0dev,>=1.31.5->google-cloud-automl) (2.25.1)\n",
      "Collecting google-auth<3.0dev,>=1.25.0\n",
      "  Downloading google_auth-2.6.5-py2.py3-none-any.whl (156 kB)\n",
      "Collecting googleapis-common-protos<2.0dev,>=1.52.0\n",
      "  Using cached googleapis_common_protos-1.56.0-py2.py3-none-any.whl (241 kB)\n",
      "Collecting grpcio<2.0dev,>=1.33.2\n",
      "  Downloading grpcio-1.44.0-cp37-cp37m-win_amd64.whl (3.4 MB)\n",
      "Collecting grpcio-status<2.0dev,>=1.33.2\n",
      "  Downloading grpcio_status-1.44.0-py3-none-any.whl (10.0 kB)\n",
      "Collecting cachetools<6.0,>=2.0.0\n",
      "  Using cached cachetools-5.0.0-py3-none-any.whl (9.1 kB)\n",
      "Collecting pyasn1-modules>=0.2.1\n",
      "  Using cached pyasn1_modules-0.2.8-py2.py3-none-any.whl (155 kB)\n",
      "Requirement already satisfied: six>=1.9.0 in d:\\programas\\anaconda\\lib\\site-packages (from google-auth<3.0dev,>=1.25.0->google-api-core[grpc]!=2.0.*,!=2.1.*,!=2.2.*,!=2.3.0,<3.0.0dev,>=1.31.5->google-cloud-automl) (1.15.0)\n",
      "Collecting rsa<5,>=3.1.4\n",
      "  Using cached rsa-4.8-py3-none-any.whl (39 kB)\n",
      "Collecting pyasn1<0.5.0,>=0.4.6\n",
      "  Using cached pyasn1-0.4.8-py2.py3-none-any.whl (77 kB)\n",
      "Requirement already satisfied: urllib3<1.27,>=1.21.1 in d:\\programas\\anaconda\\lib\\site-packages (from requests<3.0.0dev,>=2.18.0->google-api-core[grpc]!=2.0.*,!=2.1.*,!=2.2.*,!=2.3.0,<3.0.0dev,>=1.31.5->google-cloud-automl) (1.26.4)\n",
      "Requirement already satisfied: chardet<5,>=3.0.2 in d:\\programas\\anaconda\\lib\\site-packages (from requests<3.0.0dev,>=2.18.0->google-api-core[grpc]!=2.0.*,!=2.1.*,!=2.2.*,!=2.3.0,<3.0.0dev,>=1.31.5->google-cloud-automl) (4.0.0)\n",
      "Requirement already satisfied: idna<3,>=2.5 in d:\\programas\\anaconda\\lib\\site-packages (from requests<3.0.0dev,>=2.18.0->google-api-core[grpc]!=2.0.*,!=2.1.*,!=2.2.*,!=2.3.0,<3.0.0dev,>=1.31.5->google-cloud-automl) (2.10)\n",
      "Requirement already satisfied: certifi>=2017.4.17 in d:\\programas\\anaconda\\lib\\site-packages (from requests<3.0.0dev,>=2.18.0->google-api-core[grpc]!=2.0.*,!=2.1.*,!=2.2.*,!=2.3.0,<3.0.0dev,>=1.31.5->google-cloud-automl) (2021.10.8)\n",
      "Installing collected packages: pyasn1, rsa, pyasn1-modules, protobuf, cachetools, grpcio, googleapis-common-protos, google-auth, grpcio-status, google-api-core, proto-plus, google-cloud-automl\n",
      "Successfully installed cachetools-5.0.0 google-api-core-2.7.2 google-auth-2.6.5 google-cloud-automl-2.7.2 googleapis-common-protos-1.56.0 grpcio-1.44.0 grpcio-status-1.44.0 proto-plus-1.20.3 protobuf-3.20.0 pyasn1-0.4.8 pyasn1-modules-0.2.8 rsa-4.8\n"
     ]
    }
   ],
   "source": [
    "!pip install google-cloud-automl"
   ]
  },
  {
   "cell_type": "code",
   "execution_count": 2,
   "id": "1cdfe148",
   "metadata": {},
   "outputs": [
    {
     "name": "stdout",
     "output_type": "stream",
     "text": [
      "Requirement already satisfied: protobuf in d:\\programas\\anaconda\\lib\\site-packages (3.20.0)\n"
     ]
    }
   ],
   "source": [
    "!pip install protobuf"
   ]
  },
  {
   "cell_type": "code",
   "execution_count": 5,
   "id": "5444be58",
   "metadata": {},
   "outputs": [],
   "source": [
    "import os\n",
    "\n",
    "from google.oauth2 import service_account\n",
    "#import googleapiclient.discovery"
   ]
  },
  {
   "cell_type": "code",
   "execution_count": 2,
   "id": "41987c93",
   "metadata": {},
   "outputs": [
    {
     "name": "stdout",
     "output_type": "stream",
     "text": [
      "Prediction results:\n",
      "Predicted class name: Text\n",
      "Predicted class score: 0.9931273460388184\n",
      "Normalized Vertices:\n",
      "\tX: 0.2138483077287674, Y: 0.19206592440605164\n",
      "\tX: 0.7978519797325134, Y: 0.23743689060211182\n",
      "Predicted class name: TextButton\n",
      "Predicted class score: 0.9909884333610535\n",
      "Normalized Vertices:\n",
      "\tX: 0.5409426689147949, Y: 0.07899020612239838\n",
      "\tX: 0.8375529050827026, Y: 0.13291169703006744\n",
      "Predicted class name: EditText\n",
      "Predicted class score: 0.988275945186615\n",
      "Normalized Vertices:\n",
      "\tX: 0.14379970729351044, Y: 0.3376379907131195\n",
      "\tX: 0.8391402363777161, Y: 0.4079960882663727\n",
      "Predicted class name: EditText\n",
      "Predicted class score: 0.986992597579956\n",
      "Normalized Vertices:\n",
      "\tX: 0.14006413519382477, Y: 0.4647626280784607\n",
      "\tX: 0.8381152749061584, Y: 0.5375285744667053\n",
      "Predicted class name: EditText\n",
      "Predicted class score: 0.9826282262802124\n",
      "Normalized Vertices:\n",
      "\tX: 0.13953860104084015, Y: 0.5946692228317261\n",
      "\tX: 0.8350765705108643, Y: 0.666170597076416\n",
      "Predicted class name: TextButton\n",
      "Predicted class score: 0.9804884195327759\n",
      "Normalized Vertices:\n",
      "\tX: 0.1379813402891159, Y: 0.7435919642448425\n",
      "\tX: 0.8273616433143616, Y: 0.901501476764679\n",
      "Predicted class name: Text\n",
      "Predicted class score: 0.8680766820907593\n",
      "Normalized Vertices:\n",
      "\tX: 0.15422357618808746, Y: 0.44322508573532104\n",
      "\tX: 0.27841582894325256, Y: 0.46694421768188477\n",
      "Predicted class name: Text\n",
      "Predicted class score: 0.8382502794265747\n",
      "Normalized Vertices:\n",
      "\tX: 0.14995169639587402, Y: 0.5691437721252441\n",
      "\tX: 0.36559194326400757, Y: 0.5932893753051758\n",
      "Predicted class name: Text\n",
      "Predicted class score: 0.7185496091842651\n",
      "Normalized Vertices:\n",
      "\tX: 0.1546614021062851, Y: 0.31231269240379333\n",
      "\tX: 0.37570637464523315, Y: 0.3354462683200836\n"
     ]
    }
   ],
   "source": [
    "from google.cloud import automl\n",
    "import io\n",
    "import os\n",
    "\n",
    "# TODO(developer): Uncomment and set the following variables\n",
    "project_id = \"automl-test-345400\"\n",
    "model_id = \"IOD6723449832175828992\"\n",
    "file_path = \"1.JPG\"\n",
    "\n",
    "os.environ[\"GOOGLE_APPLICATION_CREDENTIALS\"] = \"automl-test-345400-04ba86ba1ab6.json\"\n",
    "\n",
    "prediction_client = automl.PredictionServiceClient()\n",
    "\n",
    "# Get the full path of the model.\n",
    "model_full_id = automl.AutoMlClient.model_path(project_id, \"us-central1\", model_id)\n",
    "\n",
    "# Read the file.\n",
    "with open(file_path, \"rb\") as content_file:\n",
    "    content = content_file.read()\n",
    "\n",
    "image = automl.Image(image_bytes=content)\n",
    "payload = automl.ExamplePayload(image=image)\n",
    "\n",
    "# params is additional domain-specific parameters.\n",
    "# score_threshold is used to filter the result\n",
    "# https://cloud.google.com/automl/docs/reference/rpc/google.cloud.automl.v1#predictrequest\n",
    "params = {\"score_threshold\": \"0.6\"}\n",
    "\n",
    "request = automl.PredictRequest(name=model_full_id, payload=payload, params=params)\n",
    "\n",
    "response = prediction_client.predict(request=request)\n",
    "print(\"Prediction results:\")\n",
    "for result in response.payload:\n",
    "    print(\"Predicted class name: {}\".format(result.display_name))\n",
    "    print(\"Predicted class score: {}\".format(result.image_object_detection.score))\n",
    "    bounding_box = result.image_object_detection.bounding_box\n",
    "    print(\"Normalized Vertices:\")\n",
    "    for vertex in bounding_box.normalized_vertices:\n",
    "        print(\"\\tX: {}, Y: {}\".format(vertex.x, vertex.y))"
   ]
  },
  {
   "cell_type": "code",
   "execution_count": null,
   "id": "10b5775b",
   "metadata": {},
   "outputs": [],
   "source": []
  }
 ],
 "metadata": {
  "kernelspec": {
   "display_name": "Python 3",
   "language": "python",
   "name": "python3"
  },
  "language_info": {
   "codemirror_mode": {
    "name": "ipython",
    "version": 3
   },
   "file_extension": ".py",
   "mimetype": "text/x-python",
   "name": "python",
   "nbconvert_exporter": "python",
   "pygments_lexer": "ipython3",
   "version": "3.7.3"
  }
 },
 "nbformat": 4,
 "nbformat_minor": 5
}
