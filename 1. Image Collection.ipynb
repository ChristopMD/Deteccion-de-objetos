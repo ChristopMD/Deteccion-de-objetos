{
 "cells": [
  {
   "cell_type": "markdown",
   "metadata": {},
   "source": [
    "# 1. Import Dependencies"
   ]
  },
  {
   "cell_type": "code",
   "execution_count": 1,
   "metadata": {},
   "outputs": [
    {
     "name": "stdout",
     "output_type": "stream",
     "text": [
      "Collecting opencv-python\n",
      "  Using cached opencv_python-4.5.5.64-cp36-abi3-win_amd64.whl (35.4 MB)\n",
      "Collecting numpy>=1.17.3\n",
      "  Downloading numpy-1.22.3-cp39-cp39-win_amd64.whl (14.7 MB)\n",
      "     --------------------------------------- 14.7/14.7 MB 10.4 MB/s eta 0:00:00\n",
      "Installing collected packages: numpy, opencv-python\n",
      "Successfully installed numpy-1.22.3 opencv-python-4.5.5.64\n"
     ]
    }
   ],
   "source": [
    "!pip install opencv-python"
   ]
  },
  {
   "cell_type": "code",
   "execution_count": 3,
   "metadata": {},
   "outputs": [],
   "source": [
    "# Import opencv\n",
    "import cv2 \n",
    "\n",
    "# Import uuid\n",
    "import uuid\n",
    "\n",
    "# Import Operating System\n",
    "import os\n",
    "\n",
    "# Import time\n",
    "import time"
   ]
  },
  {
   "cell_type": "markdown",
   "metadata": {},
   "source": [
    "# 2. Define Images to Collect"
   ]
  },
  {
   "cell_type": "code",
   "execution_count": 3,
   "metadata": {},
   "outputs": [],
   "source": [
    "labels = ['CheckedTextView', 'TextButton', 'EditText', 'Image', 'Text', 'Icon']\n",
    "number_imgs = 5"
   ]
  },
  {
   "cell_type": "markdown",
   "metadata": {},
   "source": [
    "# 3. Setup Folders "
   ]
  },
  {
   "cell_type": "code",
   "execution_count": 4,
   "metadata": {},
   "outputs": [],
   "source": [
    "IMAGES_PATH = os.path.join('Tensorflow', 'workspace', 'images', 'collectedimages')"
   ]
  },
  {
   "cell_type": "code",
   "execution_count": 5,
   "metadata": {},
   "outputs": [],
   "source": [
    "if not os.path.exists(IMAGES_PATH):\n",
    "    if os.name == 'posix':\n",
    "        !mkdir -p {IMAGES_PATH}\n",
    "    if os.name == 'nt':\n",
    "         !mkdir {IMAGES_PATH}\n",
    "for label in labels:\n",
    "    path = os.path.join(IMAGES_PATH, label)\n",
    "    if not os.path.exists(path):\n",
    "        !mkdir {path}"
   ]
  },
  {
   "cell_type": "markdown",
   "metadata": {},
   "source": [
    "# 4. Capture Images"
   ]
  },
  {
   "cell_type": "code",
   "execution_count": 18,
   "metadata": {},
   "outputs": [
    {
     "name": "stdout",
     "output_type": "stream",
     "text": [
      "Collecting images for thumbsup\n",
      "Collecting image 0\n",
      "Collecting image 1\n",
      "Collecting image 2\n",
      "Collecting image 3\n",
      "Collecting image 4\n"
     ]
    }
   ],
   "source": [
    "for label in labels:\n",
    "    cap = cv2.VideoCapture(0)\n",
    "    print('Collecting images for {}'.format(label))\n",
    "    time.sleep(5)\n",
    "    for imgnum in range(number_imgs):\n",
    "        print('Collecting image {}'.format(imgnum))\n",
    "        ret, frame = cap.read()\n",
    "        imgname = os.path.join(IMAGES_PATH,label,label+'.'+'{}.jpg'.format(str(uuid.uuid1())))\n",
    "        cv2.imwrite(imgname, frame)\n",
    "        cv2.imshow('frame', frame)\n",
    "        time.sleep(2)\n",
    "\n",
    "        if cv2.waitKey(1) & 0xFF == ord('q'):\n",
    "            break\n",
    "cap.release()\n",
    "cv2.destroyAllWindows()"
   ]
  },
  {
   "cell_type": "markdown",
   "metadata": {},
   "source": [
    "# 5. Image Labelling"
   ]
  },
  {
   "cell_type": "code",
   "execution_count": 1,
   "metadata": {},
   "outputs": [
    {
     "name": "stdout",
     "output_type": "stream",
     "text": [
      "Requirement already satisfied: pyqt5 in d:\\user christopher\\documentos\\ciclo 2022-01\\modeltensortdp\\tfodcourse\\tensortdp\\lib\\site-packages (5.15.6)\n",
      "Requirement already satisfied: lxml in d:\\user christopher\\documentos\\ciclo 2022-01\\modeltensortdp\\tfodcourse\\tensortdp\\lib\\site-packages (4.8.0)\n",
      "Requirement already satisfied: PyQt5-sip<13,>=12.8 in d:\\user christopher\\documentos\\ciclo 2022-01\\modeltensortdp\\tfodcourse\\tensortdp\\lib\\site-packages (from pyqt5) (12.9.1)\n",
      "Requirement already satisfied: PyQt5-Qt5>=5.15.2 in d:\\user christopher\\documentos\\ciclo 2022-01\\modeltensortdp\\tfodcourse\\tensortdp\\lib\\site-packages (from pyqt5) (5.15.2)\n"
     ]
    }
   ],
   "source": [
    "!pip install --upgrade pyqt5 lxml"
   ]
  },
  {
   "cell_type": "code",
   "execution_count": 4,
   "metadata": {},
   "outputs": [],
   "source": [
    "LABELIMG_PATH = os.path.join('Tensorflow', 'labelimg')"
   ]
  },
  {
   "cell_type": "code",
   "execution_count": 5,
   "metadata": {},
   "outputs": [],
   "source": [
    "if not os.path.exists(LABELIMG_PATH):\n",
    "    !mkdir {LABELIMG_PATH}\n",
    "    !git clone https://github.com/tzutalin/labelImg {LABELIMG_PATH}"
   ]
  },
  {
   "cell_type": "code",
   "execution_count": 6,
   "metadata": {},
   "outputs": [],
   "source": [
    "if os.name == 'posix':\n",
    "    !make qt5py3\n",
    "if os.name =='nt':\n",
    "    !cd {LABELIMG_PATH} && pyrcc5 -o libs/resources.py resources.qrc"
   ]
  },
  {
   "cell_type": "code",
   "execution_count": 12,
   "metadata": {},
   "outputs": [
    {
     "name": "stdout",
     "output_type": "stream",
     "text": [
      "Image:D:\\User Christopher\\Documentos\\Ciclo 2022-01\\TDP\\Wireframes\\NewImages\\39.JPG -> Annotation:D:/User Christopher/Documentos/Ciclo 2022-01/TDP/Wireframes/NewImages/39.xml\n",
      "Image:D:\\User Christopher\\Documentos\\Ciclo 2022-01\\TDP\\Wireframes\\NewImages\\40.JPG -> Annotation:D:/User Christopher/Documentos/Ciclo 2022-01/TDP/Wireframes/NewImages/40.xml\n",
      "Image:D:\\User Christopher\\Documentos\\Ciclo 2022-01\\TDP\\Wireframes\\NewImages\\41.JPG -> Annotation:D:/User Christopher/Documentos/Ciclo 2022-01/TDP/Wireframes/NewImages/41.xml\n",
      "Image:D:\\User Christopher\\Documentos\\Ciclo 2022-01\\TDP\\Wireframes\\NewImages\\42.JPG -> Annotation:D:/User Christopher/Documentos/Ciclo 2022-01/TDP/Wireframes/NewImages/42.xml\n",
      "Image:D:\\User Christopher\\Documentos\\Ciclo 2022-01\\TDP\\Wireframes\\NewImages\\43.JPG -> Annotation:D:/User Christopher/Documentos/Ciclo 2022-01/TDP/Wireframes/NewImages/43.xml\n",
      "Image:D:\\User Christopher\\Documentos\\Ciclo 2022-01\\TDP\\Wireframes\\NewImages\\44.JPG -> Annotation:D:/User Christopher/Documentos/Ciclo 2022-01/TDP/Wireframes/NewImages/44.xml\n",
      "Image:D:\\User Christopher\\Documentos\\Ciclo 2022-01\\TDP\\Wireframes\\NewImages\\45.JPG -> Annotation:D:/User Christopher/Documentos/Ciclo 2022-01/TDP/Wireframes/NewImages/45.xml\n",
      "Image:D:\\User Christopher\\Documentos\\Ciclo 2022-01\\TDP\\Wireframes\\NewImages\\46.JPG -> Annotation:D:/User Christopher/Documentos/Ciclo 2022-01/TDP/Wireframes/NewImages/46.xml\n",
      "Image:D:\\User Christopher\\Documentos\\Ciclo 2022-01\\TDP\\Wireframes\\NewImages\\51.JPG -> Annotation:D:/User Christopher/Documentos/Ciclo 2022-01/TDP/Wireframes/NewImages/51.xml\n",
      "Image:D:\\User Christopher\\Documentos\\Ciclo 2022-01\\TDP\\Wireframes\\NewImages\\52.JPG -> Annotation:D:/User Christopher/Documentos/Ciclo 2022-01/TDP/Wireframes/NewImages/52.xml\n",
      "Image:D:\\User Christopher\\Documentos\\Ciclo 2022-01\\TDP\\Wireframes\\NewImages\\55.JPG -> Annotation:D:/User Christopher/Documentos/Ciclo 2022-01/TDP/Wireframes/NewImages/55.xml\n",
      "Image:D:\\User Christopher\\Documentos\\Ciclo 2022-01\\TDP\\Wireframes\\NewImages\\56.JPG -> Annotation:D:/User Christopher/Documentos/Ciclo 2022-01/TDP/Wireframes/NewImages/56.xml\n",
      "Image:D:\\User Christopher\\Documentos\\Ciclo 2022-01\\TDP\\Wireframes\\NewImages\\57.JPG -> Annotation:D:/User Christopher/Documentos/Ciclo 2022-01/TDP/Wireframes/NewImages/57.xml\n",
      "Image:D:\\User Christopher\\Documentos\\Ciclo 2022-01\\TDP\\Wireframes\\NewImages\\66.JPG -> Annotation:D:/User Christopher/Documentos/Ciclo 2022-01/TDP/Wireframes/NewImages/66.xml\n",
      "Image:D:\\User Christopher\\Documentos\\Ciclo 2022-01\\TDP\\Wireframes\\NewImages\\67.JPG -> Annotation:D:/User Christopher/Documentos/Ciclo 2022-01/TDP/Wireframes/NewImages/67.xml\n",
      "Image:D:\\User Christopher\\Documentos\\Ciclo 2022-01\\TDP\\Wireframes\\NewImages\\69.JPG -> Annotation:D:/User Christopher/Documentos/Ciclo 2022-01/TDP/Wireframes/NewImages/69.xml\n",
      "Image:D:\\User Christopher\\Documentos\\Ciclo 2022-01\\TDP\\Wireframes\\NewImages\\70.JPG -> Annotation:D:/User Christopher/Documentos/Ciclo 2022-01/TDP/Wireframes/NewImages/70.xml\n",
      "Image:D:\\User Christopher\\Documentos\\Ciclo 2022-01\\TDP\\Wireframes\\NewImages\\71.JPG -> Annotation:D:/User Christopher/Documentos/Ciclo 2022-01/TDP/Wireframes/NewImages/71.xml\n",
      "Image:D:\\User Christopher\\Documentos\\Ciclo 2022-01\\TDP\\Wireframes\\NewImages\\70.JPG -> Annotation:D:/User Christopher/Documentos/Ciclo 2022-01/TDP/Wireframes/NewImages/70.xml\n",
      "Image:D:\\User Christopher\\Documentos\\Ciclo 2022-01\\TDP\\Wireframes\\NewImages\\72.JPG -> Annotation:D:/User Christopher/Documentos/Ciclo 2022-01/TDP/Wireframes/NewImages/72.xml\n",
      "Image:D:\\User Christopher\\Documentos\\Ciclo 2022-01\\TDP\\Wireframes\\NewImages\\75.JPG -> Annotation:D:/User Christopher/Documentos/Ciclo 2022-01/TDP/Wireframes/NewImages/75.xml\n",
      "Image:D:\\User Christopher\\Documentos\\Ciclo 2022-01\\TDP\\Wireframes\\NewImages\\77.JPG -> Annotation:D:/User Christopher/Documentos/Ciclo 2022-01/TDP/Wireframes/NewImages/77.xml\n",
      "Image:D:\\User Christopher\\Documentos\\Ciclo 2022-01\\TDP\\Wireframes\\NewImages\\79.JPG -> Annotation:D:/User Christopher/Documentos/Ciclo 2022-01/TDP/Wireframes/NewImages/79.xml\n",
      "Image:D:\\User Christopher\\Documentos\\Ciclo 2022-01\\TDP\\Wireframes\\NewImages\\93.JPG -> Annotation:D:/User Christopher/Documentos/Ciclo 2022-01/TDP/Wireframes/NewImages/93.xml\n",
      "Image:D:\\User Christopher\\Documentos\\Ciclo 2022-01\\TDP\\Wireframes\\NewImages\\96.JPG -> Annotation:D:/User Christopher/Documentos/Ciclo 2022-01/TDP/Wireframes/NewImages/96.xml\n",
      "Cancel creation.\n",
      "Image:D:\\User Christopher\\Documentos\\Ciclo 2022-01\\TDP\\Wireframes\\NewImages\\97.JPG -> Annotation:D:/User Christopher/Documentos/Ciclo 2022-01/TDP/Wireframes/NewImages/97.xml\n",
      "Image:D:\\User Christopher\\Documentos\\Ciclo 2022-01\\TDP\\Wireframes\\NewImages\\98.JPG -> Annotation:D:/User Christopher/Documentos/Ciclo 2022-01/TDP/Wireframes/NewImages/98.xml\n",
      "Image:D:\\User Christopher\\Documentos\\Ciclo 2022-01\\TDP\\Wireframes\\NewImages\\99.JPG -> Annotation:D:/User Christopher/Documentos/Ciclo 2022-01/TDP/Wireframes/NewImages/99.xml\n",
      "Image:D:\\User Christopher\\Documentos\\Ciclo 2022-01\\TDP\\Wireframes\\NewImages\\100.JPG -> Annotation:D:/User Christopher/Documentos/Ciclo 2022-01/TDP/Wireframes/NewImages/100.xml\n",
      "Image:D:\\User Christopher\\Documentos\\Ciclo 2022-01\\TDP\\Wireframes\\NewImages\\101.JPG -> Annotation:D:/User Christopher/Documentos/Ciclo 2022-01/TDP/Wireframes/NewImages/101.xml\n",
      "Image:D:\\User Christopher\\Documentos\\Ciclo 2022-01\\TDP\\Wireframes\\NewImages\\102.JPG -> Annotation:D:/User Christopher/Documentos/Ciclo 2022-01/TDP/Wireframes/NewImages/102.xml\n",
      "Image:D:\\User Christopher\\Documentos\\Ciclo 2022-01\\TDP\\Wireframes\\NewImages\\103.JPG -> Annotation:D:/User Christopher/Documentos/Ciclo 2022-01/TDP/Wireframes/NewImages/103.xml\n",
      "Image:D:\\User Christopher\\Documentos\\Ciclo 2022-01\\TDP\\Wireframes\\NewImages\\104.JPG -> Annotation:D:/User Christopher/Documentos/Ciclo 2022-01/TDP/Wireframes/NewImages/104.xml\n",
      "Cancel creation.\n",
      "Image:D:\\User Christopher\\Documentos\\Ciclo 2022-01\\TDP\\Wireframes\\NewImages\\105.JPG -> Annotation:D:/User Christopher/Documentos/Ciclo 2022-01/TDP/Wireframes/NewImages/105.xml\n",
      "Image:D:\\User Christopher\\Documentos\\Ciclo 2022-01\\TDP\\Wireframes\\NewImages\\105.JPG -> Annotation:D:/User Christopher/Documentos/Ciclo 2022-01/TDP/Wireframes/NewImages/105.xml\n",
      "Image:D:\\User Christopher\\Documentos\\Ciclo 2022-01\\TDP\\Wireframes\\NewImages\\107.JPG -> Annotation:D:/User Christopher/Documentos/Ciclo 2022-01/TDP/Wireframes/NewImages/107.xml\n",
      "Image:D:\\User Christopher\\Documentos\\Ciclo 2022-01\\TDP\\Wireframes\\NewImages\\108.JPG -> Annotation:D:/User Christopher/Documentos/Ciclo 2022-01/TDP/Wireframes/NewImages/108.xml\n",
      "Image:D:\\User Christopher\\Documentos\\Ciclo 2022-01\\TDP\\Wireframes\\NewImages\\109.JPG -> Annotation:D:/User Christopher/Documentos/Ciclo 2022-01/TDP/Wireframes/NewImages/109.xml\n",
      "Image:D:\\User Christopher\\Documentos\\Ciclo 2022-01\\TDP\\Wireframes\\NewImages\\34.JPG -> Annotation:D:/User Christopher/Documentos/Ciclo 2022-01/TDP/Wireframes/NewImages/34.xml\n",
      "Image:D:\\User Christopher\\Documentos\\Ciclo 2022-01\\TDP\\Wireframes\\NewImages\\30.JPG -> Annotation:D:/User Christopher/Documentos/Ciclo 2022-01/TDP/Wireframes/NewImages/30.xml\n",
      "Image:D:\\User Christopher\\Documentos\\Ciclo 2022-01\\TDP\\Wireframes\\NewImages\\41.JPG -> Annotation:D:/User Christopher/Documentos/Ciclo 2022-01/TDP/Wireframes/NewImages/41.xml\n",
      "Image:D:\\User Christopher\\Documentos\\Ciclo 2022-01\\TDP\\Wireframes\\NewImages\\46.JPG -> Annotation:D:/User Christopher/Documentos/Ciclo 2022-01/TDP/Wireframes/NewImages/46.xml\n"
     ]
    }
   ],
   "source": [
    "!cd {LABELIMG_PATH} && python labelImg.py"
   ]
  },
  {
   "cell_type": "markdown",
   "metadata": {},
   "source": [
    "# 6. Move them into a Training and Testing Partition"
   ]
  },
  {
   "cell_type": "markdown",
   "metadata": {},
   "source": [
    "# OPTIONAL - 7. Compress them for Colab Training"
   ]
  },
  {
   "cell_type": "code",
   "execution_count": 20,
   "metadata": {},
   "outputs": [],
   "source": [
    "TRAIN_PATH = os.path.join('Tensorflow', 'workspace', 'images', 'train')\n",
    "TEST_PATH = os.path.join('Tensorflow', 'workspace', 'images', 'test')\n",
    "ARCHIVE_PATH = os.path.join('Tensorflow', 'workspace', 'images', 'archive.tar.gz')"
   ]
  },
  {
   "cell_type": "code",
   "execution_count": 21,
   "metadata": {},
   "outputs": [],
   "source": [
    "!tar -czf {ARCHIVE_PATH} {TRAIN_PATH} {TEST_PATH}"
   ]
  },
  {
   "cell_type": "code",
   "execution_count": null,
   "metadata": {},
   "outputs": [],
   "source": []
  }
 ],
 "metadata": {
  "kernelspec": {
   "display_name": "tensorTDP",
   "language": "python",
   "name": "tensortdp"
  },
  "language_info": {
   "codemirror_mode": {
    "name": "ipython",
    "version": 3
   },
   "file_extension": ".py",
   "mimetype": "text/x-python",
   "name": "python",
   "nbconvert_exporter": "python",
   "pygments_lexer": "ipython3",
   "version": "3.9.12"
  }
 },
 "nbformat": 4,
 "nbformat_minor": 2
}
